{
 "cells": [
  {
   "cell_type": "markdown",
   "id": "247cfc58-6205-416b-b3ad-484452f6c272",
   "metadata": {},
   "source": [
    "https://github.com/BayanAlArifi/Video_Games_Sales \n",
    "https://github.com/ValdisW/datasets/blob/master/video-game-sales.csv \n",
    "https://github.com/molatosekgobela/Data-Science-Video-games-sales-dataset \n",
    "https://github.com/ushaakumaar/Video_Games_Sales_Analysis_ETL/blob/main/Output/Extracted_video_games_data.csv \n",
    "https://github.com/jacob-walsh/Video-Game-Sales \n",
    "https://www.kaggle.com/datasets/tayyarhussain/best-selling-game-consoles-of-all-time\n"
   ]
  },
  {
   "cell_type": "markdown",
   "id": "4c9db05e-8527-4c9f-8493-efed946b5936",
   "metadata": {},
   "source": [
    "After going through an unbareable amount of searches and deadends, I kept turning up empty handed for my initial idea that i wanted to explore, that being comparing the sales of PC gaming and console gaming. Exploring the active players, scorings, etc. However in my searches I found multiple, beautiful datasets comparing that of consoles from the first console to the most recent and that got me thinking. It's no secret that nintendo was the company that saved the gaming industry in the video game crash all way back with their first Mario game. And from there the industry has grown, along with the sales. Comparing company's sales to then, to now would be interesting as well as comparing the different companies to each other. Going over all the different consoles to see which ones are the top dogs and why they are so high. Like in one of the datasets I noticed that the PS2 sold so many units and still to this day is one of the most purchased consoles over the ones to follow. Using the datasets above I'll primaryly will be looking for games that were sold on multiple platforms, find which ones sold the most on each and try to see why. I will also of course try for a chart to see which sold the best, and how long. "
   ]
  },
  {
   "cell_type": "code",
   "execution_count": null,
   "id": "665991bb-477f-4630-b6f4-886ac075eaf2",
   "metadata": {},
   "outputs": [],
   "source": []
  },
  {
   "cell_type": "code",
   "execution_count": null,
   "id": "3fa88b79-74a8-4b95-8d80-24927eca5928",
   "metadata": {},
   "outputs": [],
   "source": []
  }
 ],
 "metadata": {
  "kernelspec": {
   "display_name": "Python 3 (ipykernel)",
   "language": "python",
   "name": "python3"
  },
  "language_info": {
   "codemirror_mode": {
    "name": "ipython",
    "version": 3
   },
   "file_extension": ".py",
   "mimetype": "text/x-python",
   "name": "python",
   "nbconvert_exporter": "python",
   "pygments_lexer": "ipython3",
   "version": "3.12.4"
  }
 },
 "nbformat": 4,
 "nbformat_minor": 5
}
